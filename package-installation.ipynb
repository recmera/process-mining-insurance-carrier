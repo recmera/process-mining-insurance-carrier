{
 "cells": [
  {
   "cell_type": "code",
   "execution_count": null,
   "id": "92255b4f",
   "metadata": {
    "scrolled": true
   },
   "outputs": [],
   "source": [
    "install.packages(\"bupaR\")\n",
    "install.packages(\"edeaR\")\n",
    "install.packages(\"eventdataR\")\n",
    "install.packages(\"processmapR\")\n",
    "install.packages(\"processmonitR\")\n",
    "install.packages(\"xesreadR\")\n",
    "install.packages(\"petrinetR\")\n",
    "install.packages(\"lubridate\")\n",
    "library(bupaR)\n",
    "library(lubridate, warn.conflicts = FALSE)"
   ]
  },
  {
   "cell_type": "markdown",
   "id": "6ccef0f9",
   "metadata": {},
   "source": []
  }
 ],
 "metadata": {
  "kernelspec": {
   "display_name": "R",
   "language": "R",
   "name": "ir"
  },
  "language_info": {
   "codemirror_mode": "r",
   "file_extension": ".r",
   "mimetype": "text/x-r-source",
   "name": "R",
   "pygments_lexer": "r",
   "version": "3.6.1"
  }
 },
 "nbformat": 4,
 "nbformat_minor": 5
}
