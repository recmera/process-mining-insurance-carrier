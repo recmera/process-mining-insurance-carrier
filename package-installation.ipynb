{
 "cells": [
  {
   "cell_type": "code",
   "execution_count": 1,
   "id": "92255b4f",
   "metadata": {
    "scrolled": true
   },
   "outputs": [
    {
     "name": "stderr",
     "output_type": "stream",
     "text": [
      "Updating HTML index of packages in '.Library'\n",
      "Making 'packages.html' ... done\n",
      "Updating HTML index of packages in '.Library'\n",
      "Making 'packages.html' ... done\n",
      "Updating HTML index of packages in '.Library'\n",
      "Making 'packages.html' ... done\n",
      "Updating HTML index of packages in '.Library'\n",
      "Making 'packages.html' ... done\n",
      "Updating HTML index of packages in '.Library'\n",
      "Making 'packages.html' ... done\n",
      "also installing the dependency ‘XML’\n",
      "\n",
      "Warning message in install.packages(\"xesreadR\"):\n",
      "“installation of package ‘XML’ had non-zero exit status”Warning message in install.packages(\"xesreadR\"):\n",
      "“installation of package ‘xesreadR’ had non-zero exit status”Updating HTML index of packages in '.Library'\n",
      "Making 'packages.html' ... done\n",
      "Updating HTML index of packages in '.Library'\n",
      "Making 'packages.html' ... done\n",
      "Updating HTML index of packages in '.Library'\n",
      "Making 'packages.html' ... done\n",
      "Warning message in system(\"timedatectl\", intern = TRUE):\n",
      "“running command 'timedatectl' had status 1”\n",
      "Attaching package: ‘bupaR’\n",
      "\n",
      "The following object is masked from ‘package:stats’:\n",
      "\n",
      "    filter\n",
      "\n",
      "The following object is masked from ‘package:utils’:\n",
      "\n",
      "    timestamp\n",
      "\n"
     ]
    }
   ],
   "source": [
    "install.packages(\"bupaR\")\n",
    "install.packages(\"edeaR\")\n",
    "install.packages(\"eventdataR\")\n",
    "install.packages(\"processmapR\")\n",
    "install.packages(\"processmonitR\")\n",
    "install.packages(\"xesreadR\")\n",
    "install.packages(\"petrinetR\")\n",
    "install.packages(\"lubridate\")\n",
    "library(bupaR)\n",
    "library(lubridate, warn.conflicts = FALSE)"
   ]
  },
  {
   "cell_type": "markdown",
   "id": "6ccef0f9",
   "metadata": {},
   "source": []
  }
 ],
 "metadata": {
  "kernelspec": {
   "display_name": "R",
   "language": "R",
   "name": "ir"
  },
  "language_info": {
   "codemirror_mode": "r",
   "file_extension": ".r",
   "mimetype": "text/x-r-source",
   "name": "R",
   "pygments_lexer": "r",
   "version": "3.6.1"
  }
 },
 "nbformat": 4,
 "nbformat_minor": 5
}
