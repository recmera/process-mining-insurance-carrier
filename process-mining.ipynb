{
 "cells": [
  {
   "cell_type": "markdown",
   "id": "d85cc079",
   "metadata": {},
   "source": [
    "Contenido del archivo claims_2021.R "
   ]
  },
  {
   "cell_type": "code",
   "execution_count": 12,
   "id": "8077d06e",
   "metadata": {},
   "outputs": [
    {
     "data": {
      "text/html": [
       "<table>\n",
       "<thead><tr><th scope=col>claim_id</th><th scope=col>activity_instance</th><th scope=col>activity</th><th scope=col>Inicio</th><th scope=col>Fin</th><th scope=col>resource</th><th scope=col>result</th><th scope=col>type</th><th scope=col>value</th><th scope=col>agent</th><th scope=col>.order</th><th scope=col>activity_instance_id</th><th scope=col>lifecycle_id</th><th scope=col>timestamp</th></tr></thead>\n",
       "<tbody>\n",
       "\t<tr><td>1              </td><td>10000          </td><td>Accident       </td><td>01-01-2008     </td><td>01-01-2008     </td><td>Client x       </td><td>NA             </td><td>NA             </td><td> NA            </td><td>NA             </td><td>1              </td><td>1              </td><td>Start.Timestamp</td><td>2008-01-01     </td></tr>\n",
       "\t<tr><td>1              </td><td>10001          </td><td>File Claim     </td><td>09-01-2008     </td><td>09-01-2008     </td><td>Client x       </td><td>NA             </td><td>Car            </td><td>600            </td><td>Agent A        </td><td>2              </td><td>2              </td><td>Start.Timestamp</td><td>2008-01-09     </td></tr>\n",
       "\t<tr><td>1              </td><td>10002          </td><td>Check Contract </td><td>12-01-2008     </td><td>13-01-2008     </td><td>Assistant 1    </td><td>OK             </td><td>NA             </td><td> NA            </td><td>NA             </td><td>3              </td><td>3              </td><td>Start.Timestamp</td><td>2008-01-12     </td></tr>\n",
       "\t<tr><td>1              </td><td>10003          </td><td>Franchise?     </td><td>13-01-2008     </td><td>13-01-2008     </td><td>Assistant 1    </td><td>By client      </td><td>NA             </td><td> NA            </td><td>NA             </td><td>4              </td><td>4              </td><td>Start.Timestamp</td><td>2008-01-13     </td></tr>\n",
       "</tbody>\n",
       "</table>\n"
      ],
      "text/latex": [
       "\\begin{tabular}{r|llllllllllllll}\n",
       " claim\\_id & activity\\_instance & activity & Inicio & Fin & resource & result & type & value & agent & .order & activity\\_instance\\_id & lifecycle\\_id & timestamp\\\\\n",
       "\\hline\n",
       "\t 1               & 10000           & Accident        & 01-01-2008      & 01-01-2008      & Client x        & NA              & NA              &  NA             & NA              & 1               & 1               & Start.Timestamp & 2008-01-01     \\\\\n",
       "\t 1               & 10001           & File Claim      & 09-01-2008      & 09-01-2008      & Client x        & NA              & Car             & 600             & Agent A         & 2               & 2               & Start.Timestamp & 2008-01-09     \\\\\n",
       "\t 1               & 10002           & Check Contract  & 12-01-2008      & 13-01-2008      & Assistant 1     & OK              & NA              &  NA             & NA              & 3               & 3               & Start.Timestamp & 2008-01-12     \\\\\n",
       "\t 1               & 10003           & Franchise?      & 13-01-2008      & 13-01-2008      & Assistant 1     & By client       & NA              &  NA             & NA              & 4               & 4               & Start.Timestamp & 2008-01-13     \\\\\n",
       "\\end{tabular}\n"
      ],
      "text/markdown": [
       "\n",
       "| claim_id | activity_instance | activity | Inicio | Fin | resource | result | type | value | agent | .order | activity_instance_id | lifecycle_id | timestamp |\n",
       "|---|---|---|---|---|---|---|---|---|---|---|---|---|---|\n",
       "| 1               | 10000           | Accident        | 01-01-2008      | 01-01-2008      | Client x        | NA              | NA              |  NA             | NA              | 1               | 1               | Start.Timestamp | 2008-01-01      |\n",
       "| 1               | 10001           | File Claim      | 09-01-2008      | 09-01-2008      | Client x        | NA              | Car             | 600             | Agent A         | 2               | 2               | Start.Timestamp | 2008-01-09      |\n",
       "| 1               | 10002           | Check Contract  | 12-01-2008      | 13-01-2008      | Assistant 1     | OK              | NA              |  NA             | NA              | 3               | 3               | Start.Timestamp | 2008-01-12      |\n",
       "| 1               | 10003           | Franchise?      | 13-01-2008      | 13-01-2008      | Assistant 1     | By client       | NA              |  NA             | NA              | 4               | 4               | Start.Timestamp | 2008-01-13      |\n",
       "\n"
      ],
      "text/plain": [
       "  claim_id activity_instance activity       Inicio     Fin        resource   \n",
       "1 1        10000             Accident       01-01-2008 01-01-2008 Client x   \n",
       "2 1        10001             File Claim     09-01-2008 09-01-2008 Client x   \n",
       "3 1        10002             Check Contract 12-01-2008 13-01-2008 Assistant 1\n",
       "4 1        10003             Franchise?     13-01-2008 13-01-2008 Assistant 1\n",
       "  result    type value agent   .order activity_instance_id lifecycle_id   \n",
       "1 NA        NA    NA   NA      1      1                    Start.Timestamp\n",
       "2 NA        Car  600   Agent A 2      2                    Start.Timestamp\n",
       "3 OK        NA    NA   NA      3      3                    Start.Timestamp\n",
       "4 By client NA    NA   NA      4      4                    Start.Timestamp\n",
       "  timestamp \n",
       "1 2008-01-01\n",
       "2 2008-01-09\n",
       "3 2008-01-12\n",
       "4 2008-01-13"
      ]
     },
     "metadata": {},
     "output_type": "display_data"
    },
    {
     "data": {
      "text/html": [
       "61186"
      ],
      "text/latex": [
       "61186"
      ],
      "text/markdown": [
       "61186"
      ],
      "text/plain": [
       "[1] 61186"
      ]
     },
     "metadata": {},
     "output_type": "display_data"
    }
   ],
   "source": [
    "warning = FALSE\n",
    "# load packages\n",
    "library(bupaR)\n",
    "library (edeaR)\n",
    "library(lubridate)\n",
    "\n",
    "# lectura del CSV, para cargar el log de eventos.\n",
    "read.csv2(\"log_claims_2021.csv\") %>%\n",
    "  mutate(Start.Timestamp = dmy(Inicio),\n",
    "         Complete.Timestamp = dmy(Fin)) %>%\n",
    "  activities_to_eventlog(\"claim_id\", activity_id = \"activity\", \n",
    "                         timestamps = c(\"Start.Timestamp\",\"Complete.Timestamp\"), \n",
    "                         resource_id = \"resource\"\n",
    "  ) -> claims2021\n",
    "head(claims2021,4)\n",
    "nrow(claims2021)"
   ]
  },
  {
   "cell_type": "code",
   "execution_count": 13,
   "id": "d8ccfc85",
   "metadata": {},
   "outputs": [
    {
     "name": "stdout",
     "output_type": "stream",
     "text": [
      "Number of events:  61186\n",
      "Number of cases:  2447\n",
      "Number of traces:  25\n",
      "Number of distinct activities:  15\n",
      "Average trace length:  25.0045\n",
      "\n",
      "Start eventlog:  2008-01-01\n",
      "End eventlog:  2015-01-07\n",
      "\n"
     ]
    },
    {
     "data": {
      "text/plain": [
       "   claim_id         activity_instance                activity    \n",
       " Length:61186       Min.   :10000     Acceptance Decision: 4894  \n",
       " Class :character   1st Qu.:17648     Accident           : 4894  \n",
       " Mode  :character   Median :25296     Check Contract     : 4894  \n",
       "                    Mean   :25296     Covered?           : 4894  \n",
       "                    3rd Qu.:32944     File Claim         : 4894  \n",
       "                    Max.   :40592     Franchise?         : 4894  \n",
       "                                      (Other)            :31822  \n",
       "        Inicio              Fin               resource           result     \n",
       " 01-03-2010:   50   01-03-2010:   50   Client x   : 9788   By client: 4740  \n",
       " 01-03-2014:   50   01-03-2014:   50   Assistant 5: 7484   NOK      :  442  \n",
       " 06-08-2012:   30   04-08-2010:   30   Manager 1  : 6128   OK       : 9500  \n",
       " 08-12-2012:   30   08-02-2012:   30   Manager 2  : 5016   NA's     :46504  \n",
       " 10-05-2012:   30   10-05-2012:   30   Manager 3  : 4704                    \n",
       " 15-11-2009:   30   11-07-2009:   30   Assistant 7: 4508                    \n",
       " (Other)   :60966   (Other)   :60966   (Other)    :23558                    \n",
       "     type           value           agent           .order     \n",
       " Car   : 3060   Min.   :  500   Agent H: 1304   Min.   :    1  \n",
       " Health: 1224   1st Qu.: 3281   Agent D:  652   1st Qu.:15297  \n",
       " House :  610   Median : 5980   Agent E:  652   Median :30594  \n",
       " NA's  :56292   Mean   : 9615   Agent F:  652   Mean   :30594  \n",
       "                3rd Qu.:11900   Agent A:  328   3rd Qu.:45890  \n",
       "                Max.   :46100   (Other): 1306   Max.   :61186  \n",
       "                NA's   :56292   NA's   :56292                  \n",
       " activity_instance_id             lifecycle_id     timestamp         \n",
       " Length:61186         Complete.Timestamp:30593   Min.   :2008-01-01  \n",
       " Class :character     Start.Timestamp   :30593   1st Qu.:2009-10-10  \n",
       " Mode  :character                                Median :2011-06-10  \n",
       "                                                 Mean   :2011-06-13  \n",
       "                                                 3rd Qu.:2013-02-13  \n",
       "                                                 Max.   :2015-01-07  \n",
       "                                                                     "
      ]
     },
     "metadata": {},
     "output_type": "display_data"
    }
   ],
   "source": [
    "summary(claims2021)"
   ]
  },
  {
   "cell_type": "markdown",
   "id": "63e5e27b",
   "metadata": {},
   "source": [
    "¿Cuáles son las actividades que se realizan más a menudo (o menos)?"
   ]
  },
  {
   "cell_type": "code",
   "execution_count": 14,
   "id": "b4077570",
   "metadata": {
    "scrolled": false
   },
   "outputs": [
    {
     "data": {
      "text/html": [
       "<table>\n",
       "<thead><tr><th scope=col>activity</th><th scope=col>absolute_frequency</th><th scope=col>relative_frequency</th></tr></thead>\n",
       "<tbody>\n",
       "\t<tr><td>Acceptance Decision      </td><td>2447                     </td><td>0.079985618              </td></tr>\n",
       "\t<tr><td>Accident                 </td><td>2447                     </td><td>0.079985618              </td></tr>\n",
       "\t<tr><td>Check Contract           </td><td>2447                     </td><td>0.079985618              </td></tr>\n",
       "\t<tr><td>Covered?                 </td><td>2447                     </td><td>0.079985618              </td></tr>\n",
       "\t<tr><td>File Claim               </td><td>2447                     </td><td>0.079985618              </td></tr>\n",
       "\t<tr><td>Franchise?               </td><td>2447                     </td><td>0.079985618              </td></tr>\n",
       "\t<tr><td>Appoint Expert           </td><td>2244                     </td><td>0.073350113              </td></tr>\n",
       "\t<tr><td>Appoint Lawyer           </td><td>2244                     </td><td>0.073350113              </td></tr>\n",
       "\t<tr><td>Pay Back Decision        </td><td>2244                     </td><td>0.073350113              </td></tr>\n",
       "\t<tr><td>Receive Conclusion Expert</td><td>2244                     </td><td>0.073350113              </td></tr>\n",
       "\t<tr><td>Receive Conclusion Lawyer</td><td>2244                     </td><td>0.073350113              </td></tr>\n",
       "\t<tr><td>Start Investigation      </td><td>2244                     </td><td>0.073350113              </td></tr>\n",
       "\t<tr><td>Pay Claim                </td><td>2025                     </td><td>0.066191612              </td></tr>\n",
       "\t<tr><td>No Refund                </td><td> 219                     </td><td>0.007158500              </td></tr>\n",
       "\t<tr><td>Reject Claim             </td><td> 203                     </td><td>0.006635505              </td></tr>\n",
       "</tbody>\n",
       "</table>\n"
      ],
      "text/latex": [
       "\\begin{tabular}{r|lll}\n",
       " activity & absolute\\_frequency & relative\\_frequency\\\\\n",
       "\\hline\n",
       "\t Acceptance Decision       & 2447                      & 0.079985618              \\\\\n",
       "\t Accident                  & 2447                      & 0.079985618              \\\\\n",
       "\t Check Contract            & 2447                      & 0.079985618              \\\\\n",
       "\t Covered?                  & 2447                      & 0.079985618              \\\\\n",
       "\t File Claim                & 2447                      & 0.079985618              \\\\\n",
       "\t Franchise?                & 2447                      & 0.079985618              \\\\\n",
       "\t Appoint Expert            & 2244                      & 0.073350113              \\\\\n",
       "\t Appoint Lawyer            & 2244                      & 0.073350113              \\\\\n",
       "\t Pay Back Decision         & 2244                      & 0.073350113              \\\\\n",
       "\t Receive Conclusion Expert & 2244                      & 0.073350113              \\\\\n",
       "\t Receive Conclusion Lawyer & 2244                      & 0.073350113              \\\\\n",
       "\t Start Investigation       & 2244                      & 0.073350113              \\\\\n",
       "\t Pay Claim                 & 2025                      & 0.066191612              \\\\\n",
       "\t No Refund                 &  219                      & 0.007158500              \\\\\n",
       "\t Reject Claim              &  203                      & 0.006635505              \\\\\n",
       "\\end{tabular}\n"
      ],
      "text/markdown": [
       "\n",
       "| activity | absolute_frequency | relative_frequency |\n",
       "|---|---|---|\n",
       "| Acceptance Decision       | 2447                      | 0.079985618               |\n",
       "| Accident                  | 2447                      | 0.079985618               |\n",
       "| Check Contract            | 2447                      | 0.079985618               |\n",
       "| Covered?                  | 2447                      | 0.079985618               |\n",
       "| File Claim                | 2447                      | 0.079985618               |\n",
       "| Franchise?                | 2447                      | 0.079985618               |\n",
       "| Appoint Expert            | 2244                      | 0.073350113               |\n",
       "| Appoint Lawyer            | 2244                      | 0.073350113               |\n",
       "| Pay Back Decision         | 2244                      | 0.073350113               |\n",
       "| Receive Conclusion Expert | 2244                      | 0.073350113               |\n",
       "| Receive Conclusion Lawyer | 2244                      | 0.073350113               |\n",
       "| Start Investigation       | 2244                      | 0.073350113               |\n",
       "| Pay Claim                 | 2025                      | 0.066191612               |\n",
       "| No Refund                 |  219                      | 0.007158500               |\n",
       "| Reject Claim              |  203                      | 0.006635505               |\n",
       "\n"
      ],
      "text/plain": [
       "   activity                  absolute_frequency relative_frequency\n",
       "1  Acceptance Decision       2447               0.079985618       \n",
       "2  Accident                  2447               0.079985618       \n",
       "3  Check Contract            2447               0.079985618       \n",
       "4  Covered?                  2447               0.079985618       \n",
       "5  File Claim                2447               0.079985618       \n",
       "6  Franchise?                2447               0.079985618       \n",
       "7  Appoint Expert            2244               0.073350113       \n",
       "8  Appoint Lawyer            2244               0.073350113       \n",
       "9  Pay Back Decision         2244               0.073350113       \n",
       "10 Receive Conclusion Expert 2244               0.073350113       \n",
       "11 Receive Conclusion Lawyer 2244               0.073350113       \n",
       "12 Start Investigation       2244               0.073350113       \n",
       "13 Pay Claim                 2025               0.066191612       \n",
       "14 No Refund                  219               0.007158500       \n",
       "15 Reject Claim               203               0.006635505       "
      ]
     },
     "metadata": {},
     "output_type": "display_data"
    }
   ],
   "source": [
    "claims2021 %>% activities"
   ]
  },
  {
   "cell_type": "markdown",
   "id": "0cd29d98",
   "metadata": {},
   "source": [
    "¿Cuáles son los ejecutores que participan realizando más (o menos) actividades?"
   ]
  },
  {
   "cell_type": "code",
   "execution_count": 15,
   "id": "ad7a58da",
   "metadata": {
    "scrolled": false
   },
   "outputs": [
    {
     "data": {
      "text/html": [
       "<table>\n",
       "<thead><tr><th scope=col>resource</th><th scope=col>absolute_frequency</th><th scope=col>relative_frequency</th></tr></thead>\n",
       "<tbody>\n",
       "\t<tr><td>Client x    </td><td>4894        </td><td>0.159971235 </td></tr>\n",
       "\t<tr><td>Assistant 5 </td><td>3742        </td><td>0.122315562 </td></tr>\n",
       "\t<tr><td>Manager 1   </td><td>3064        </td><td>0.100153630 </td></tr>\n",
       "\t<tr><td>Manager 2   </td><td>2508        </td><td>0.081979538 </td></tr>\n",
       "\t<tr><td>Manager 3   </td><td>2352        </td><td>0.076880332 </td></tr>\n",
       "\t<tr><td>Assistant 7 </td><td>2254        </td><td>0.073676985 </td></tr>\n",
       "\t<tr><td>Assistant 6 </td><td>2219        </td><td>0.072532932 </td></tr>\n",
       "\t<tr><td>Manager 4   </td><td>1670        </td><td>0.054587651 </td></tr>\n",
       "\t<tr><td>Assistant 4 </td><td>1646        </td><td>0.053803158 </td></tr>\n",
       "\t<tr><td>Assistant 9 </td><td>1247        </td><td>0.040760958 </td></tr>\n",
       "\t<tr><td>Assistant 3 </td><td>1169        </td><td>0.038211356 </td></tr>\n",
       "\t<tr><td>Assistant 10</td><td>1136        </td><td>0.037132677 </td></tr>\n",
       "\t<tr><td>Assistant 8 </td><td> 995        </td><td>0.032523780 </td></tr>\n",
       "\t<tr><td>Assistant 11</td><td> 963        </td><td>0.031477789 </td></tr>\n",
       "\t<tr><td>Assistant 1 </td><td> 435        </td><td>0.014218939 </td></tr>\n",
       "\t<tr><td>Assistant 2 </td><td> 299        </td><td>0.009773478 </td></tr>\n",
       "</tbody>\n",
       "</table>\n"
      ],
      "text/latex": [
       "\\begin{tabular}{r|lll}\n",
       " resource & absolute\\_frequency & relative\\_frequency\\\\\n",
       "\\hline\n",
       "\t Client x     & 4894         & 0.159971235 \\\\\n",
       "\t Assistant 5  & 3742         & 0.122315562 \\\\\n",
       "\t Manager 1    & 3064         & 0.100153630 \\\\\n",
       "\t Manager 2    & 2508         & 0.081979538 \\\\\n",
       "\t Manager 3    & 2352         & 0.076880332 \\\\\n",
       "\t Assistant 7  & 2254         & 0.073676985 \\\\\n",
       "\t Assistant 6  & 2219         & 0.072532932 \\\\\n",
       "\t Manager 4    & 1670         & 0.054587651 \\\\\n",
       "\t Assistant 4  & 1646         & 0.053803158 \\\\\n",
       "\t Assistant 9  & 1247         & 0.040760958 \\\\\n",
       "\t Assistant 3  & 1169         & 0.038211356 \\\\\n",
       "\t Assistant 10 & 1136         & 0.037132677 \\\\\n",
       "\t Assistant 8  &  995         & 0.032523780 \\\\\n",
       "\t Assistant 11 &  963         & 0.031477789 \\\\\n",
       "\t Assistant 1  &  435         & 0.014218939 \\\\\n",
       "\t Assistant 2  &  299         & 0.009773478 \\\\\n",
       "\\end{tabular}\n"
      ],
      "text/markdown": [
       "\n",
       "| resource | absolute_frequency | relative_frequency |\n",
       "|---|---|---|\n",
       "| Client x     | 4894         | 0.159971235  |\n",
       "| Assistant 5  | 3742         | 0.122315562  |\n",
       "| Manager 1    | 3064         | 0.100153630  |\n",
       "| Manager 2    | 2508         | 0.081979538  |\n",
       "| Manager 3    | 2352         | 0.076880332  |\n",
       "| Assistant 7  | 2254         | 0.073676985  |\n",
       "| Assistant 6  | 2219         | 0.072532932  |\n",
       "| Manager 4    | 1670         | 0.054587651  |\n",
       "| Assistant 4  | 1646         | 0.053803158  |\n",
       "| Assistant 9  | 1247         | 0.040760958  |\n",
       "| Assistant 3  | 1169         | 0.038211356  |\n",
       "| Assistant 10 | 1136         | 0.037132677  |\n",
       "| Assistant 8  |  995         | 0.032523780  |\n",
       "| Assistant 11 |  963         | 0.031477789  |\n",
       "| Assistant 1  |  435         | 0.014218939  |\n",
       "| Assistant 2  |  299         | 0.009773478  |\n",
       "\n"
      ],
      "text/plain": [
       "   resource     absolute_frequency relative_frequency\n",
       "1  Client x     4894               0.159971235       \n",
       "2  Assistant 5  3742               0.122315562       \n",
       "3  Manager 1    3064               0.100153630       \n",
       "4  Manager 2    2508               0.081979538       \n",
       "5  Manager 3    2352               0.076880332       \n",
       "6  Assistant 7  2254               0.073676985       \n",
       "7  Assistant 6  2219               0.072532932       \n",
       "8  Manager 4    1670               0.054587651       \n",
       "9  Assistant 4  1646               0.053803158       \n",
       "10 Assistant 9  1247               0.040760958       \n",
       "11 Assistant 3  1169               0.038211356       \n",
       "12 Assistant 10 1136               0.037132677       \n",
       "13 Assistant 8   995               0.032523780       \n",
       "14 Assistant 11  963               0.031477789       \n",
       "15 Assistant 1   435               0.014218939       \n",
       "16 Assistant 2   299               0.009773478       "
      ]
     },
     "metadata": {},
     "output_type": "display_data"
    }
   ],
   "source": [
    "claims2021 %>% resources"
   ]
  },
  {
   "cell_type": "markdown",
   "id": "4a102183",
   "metadata": {},
   "source": [
    "¿Con qué actividades comienza/termina el proceso?"
   ]
  },
  {
   "cell_type": "code",
   "execution_count": 16,
   "id": "70503ab6",
   "metadata": {},
   "outputs": [
    {
     "data": {
      "text/html": [
       "<table>\n",
       "<thead><tr><th scope=col>activity</th><th scope=col>absolute</th><th scope=col>relative</th><th scope=col>cum_sum</th></tr></thead>\n",
       "<tbody>\n",
       "\t<tr><td>Accident</td><td>2447    </td><td>1       </td><td>1       </td></tr>\n",
       "</tbody>\n",
       "</table>\n"
      ],
      "text/latex": [
       "\\begin{tabular}{r|llll}\n",
       " activity & absolute & relative & cum\\_sum\\\\\n",
       "\\hline\n",
       "\t Accident & 2447     & 1        & 1       \\\\\n",
       "\\end{tabular}\n"
      ],
      "text/markdown": [
       "\n",
       "| activity | absolute | relative | cum_sum |\n",
       "|---|---|---|---|\n",
       "| Accident | 2447     | 1        | 1        |\n",
       "\n"
      ],
      "text/plain": [
       "  activity absolute relative cum_sum\n",
       "1 Accident 2447     1        1      "
      ]
     },
     "metadata": {},
     "output_type": "display_data"
    }
   ],
   "source": [
    "claims2021 %>% start_activities(\"activity\")"
   ]
  },
  {
   "cell_type": "code",
   "execution_count": 17,
   "id": "e7a01539",
   "metadata": {},
   "outputs": [
    {
     "data": {
      "text/html": [
       "<table>\n",
       "<thead><tr><th scope=col>activity</th><th scope=col>absolute</th><th scope=col>relative</th><th scope=col>cum_sum</th></tr></thead>\n",
       "<tbody>\n",
       "\t<tr><td>Pay Claim   </td><td>2025        </td><td>0.82754393  </td><td>0.8275439   </td></tr>\n",
       "\t<tr><td>No Refund   </td><td> 219        </td><td>0.08949734  </td><td>0.9170413   </td></tr>\n",
       "\t<tr><td>Reject Claim</td><td> 203        </td><td>0.08295872  </td><td>1.0000000   </td></tr>\n",
       "</tbody>\n",
       "</table>\n"
      ],
      "text/latex": [
       "\\begin{tabular}{r|llll}\n",
       " activity & absolute & relative & cum\\_sum\\\\\n",
       "\\hline\n",
       "\t Pay Claim    & 2025         & 0.82754393   & 0.8275439   \\\\\n",
       "\t No Refund    &  219         & 0.08949734   & 0.9170413   \\\\\n",
       "\t Reject Claim &  203         & 0.08295872   & 1.0000000   \\\\\n",
       "\\end{tabular}\n"
      ],
      "text/markdown": [
       "\n",
       "| activity | absolute | relative | cum_sum |\n",
       "|---|---|---|---|\n",
       "| Pay Claim    | 2025         | 0.82754393   | 0.8275439    |\n",
       "| No Refund    |  219         | 0.08949734   | 0.9170413    |\n",
       "| Reject Claim |  203         | 0.08295872   | 1.0000000    |\n",
       "\n"
      ],
      "text/plain": [
       "  activity     absolute relative   cum_sum  \n",
       "1 Pay Claim    2025     0.82754393 0.8275439\n",
       "2 No Refund     219     0.08949734 0.9170413\n",
       "3 Reject Claim  203     0.08295872 1.0000000"
      ]
     },
     "metadata": {},
     "output_type": "display_data"
    }
   ],
   "source": [
    "claims2021 %>% end_activities(\"activity\")"
   ]
  },
  {
   "cell_type": "code",
   "execution_count": 18,
   "id": "b55359e2",
   "metadata": {
    "scrolled": false
   },
   "outputs": [
    {
     "name": "stderr",
     "output_type": "stream",
     "text": [
      "Joining, by = \"claim_id\"\n"
     ]
    },
    {
     "data": {
      "image/png": "[encoded data removed]",
      "text/plain": [
       "plot without title"
      ]
     },
     "metadata": {},
     "output_type": "display_data"
    }
   ],
   "source": [
    "claims2021%>% \n",
    "  dotted_chart(\n",
    "    x = \"relative\", \n",
    "    sort= \"duration\", \n",
    "    color = \"activity\", \n",
    "    units = \"hours\")\n",
    "\n"
   ]
  },
  {
   "cell_type": "code",
   "execution_count": null,
   "id": "f01d5838",
   "metadata": {},
   "outputs": [],
   "source": []
  },
  {
   "cell_type": "code",
   "execution_count": null,
   "id": "649470c7",
   "metadata": {},
   "outputs": [],
   "source": []
  },
  {
   "cell_type": "code",
   "execution_count": null,
   "id": "f14ea9d5",
   "metadata": {},
   "outputs": [],
   "source": []
  },
  {
   "cell_type": "code",
   "execution_count": null,
   "id": "7b91645c",
   "metadata": {},
   "outputs": [],
   "source": []
  },
  {
   "cell_type": "code",
   "execution_count": null,
   "id": "e9ee7b16",
   "metadata": {},
   "outputs": [],
   "source": []
  },
  {
   "cell_type": "code",
   "execution_count": null,
   "id": "95381787",
   "metadata": {},
   "outputs": [],
   "source": []
  },
  {
   "cell_type": "code",
   "execution_count": null,
   "id": "83a22945",
   "metadata": {},
   "outputs": [],
   "source": []
  },
  {
   "cell_type": "code",
   "execution_count": null,
   "id": "aa27e5df",
   "metadata": {},
   "outputs": [],
   "source": []
  },
  {
   "cell_type": "code",
   "execution_count": null,
   "id": "20abbf0f",
   "metadata": {},
   "outputs": [],
   "source": []
  },
  {
   "cell_type": "code",
   "execution_count": null,
   "id": "3c545c06",
   "metadata": {},
   "outputs": [],
   "source": []
  },
  {
   "cell_type": "code",
   "execution_count": null,
   "id": "a47eb1cf",
   "metadata": {},
   "outputs": [],
   "source": []
  },
  {
   "cell_type": "code",
   "execution_count": null,
   "id": "630d8384",
   "metadata": {},
   "outputs": [],
   "source": []
  },
  {
   "cell_type": "code",
   "execution_count": null,
   "id": "5ffc36f6",
   "metadata": {},
   "outputs": [],
   "source": []
  },
  {
   "cell_type": "code",
   "execution_count": null,
   "id": "a0a0de8e",
   "metadata": {},
   "outputs": [],
   "source": [
    "claims2021 %>%\n",
    "  process_map(\n",
    "    type_nodes = performance (mean, \"min\")\n",
    "  )\n",
    "\n",
    "claims2021 %>%\n",
    "  process_map(\n",
    "    type_nodes = frequency ()\n",
    "  )\n",
    "\n",
    "claims2021 %>%\n",
    "  filter_endpoints(\n",
    "    end_activities = c(\"Archivar reparacion\")\n",
    "    ) %>%\n",
    "  process_map()\n",
    "\n",
    "claims2021 %>%\n",
    "  filter_endpoints(end_activities = c(\"Archivar reparacion\")) %>%\n",
    "  filter_activity(\"Informar a cliente\", reverse= TRUE) %>% \n",
    "  process_map()\n",
    "\n",
    "claims2021 %>%\n",
    "  filter_endpoints(end_activities = c(\"Archivar reparacion\")) %>%\n",
    "  filter_activity(\"Informar a cliente\", reverse= TRUE) %>% \n",
    "  summary \n",
    "\n",
    "claims2021 %>%\n",
    "  filter_endpoints(end_activities = c(\"Archivar reparacion\")) %>%\n",
    "  filter_activity(\"Informar a cliente\", reverse= TRUE) %>% \n",
    "  resources \n",
    "\n",
    "claims2021 %>%\n",
    "  filter_endpoints(end_activities = c(\"Archivar reparacion\")) %>%\n",
    "  filter_activity(\"Informar a cliente\", reverse= TRUE) %>% \n",
    "  process_map(\n",
    "    type_nodes = performance(),\n",
    "    type_edges = performance(),\n",
    "    sec_nodes = frequency (),\n",
    "    sec_edgeclaims2021\n",
    "claims2021 %>%\n",
    "  filter_endpoints(end_activities = c(\"Archivar reparacion\")) %>%\n",
    "  filter_activity(\"Informar a cliente\", reverse= TRUE) %>% \n",
    "  process_map(\n",
    "     type_nodes = performance(max, \"mins\"),\n",
    "     type_edges = performance(max, \"mins\"),\n",
    "     sec_nodes = performance (min, \"mins\"),\n",
    "     sec_edges = performance (min, \"mins\")\n",
    "  )"
   ]
  },
  {
   "cell_type": "code",
   "execution_count": null,
   "id": "ee8b8181",
   "metadata": {},
   "outputs": [],
   "source": [
    "\n",
    "#Throughput  time\n",
    "ReparacionTelefonos %>%\n",
    "  filter_endpoints(end_activities = c(\"Archivar reparacion\")) %>%\n",
    "  filter_activity(\"Informar a cliente\", reverse= TRUE) %>% \n",
    "  filter_throughput_time(interval = c(NA,1) , units = \"hours\") %>%\n",
    "  process_map(\n",
    "    type_nodes = performance(),\n",
    "    type_edges = performance(),\n",
    "    sec_nodes = frequency (),\n",
    "    sec_edges = frequency()\n",
    "  )\n",
    "\n",
    "ReparacionTelefonos %>%\n",
    "  filter_endpoints(end_activities = c(\"Archivar reparacion\")) %>%\n",
    "  filter_activity(\"Informar a cliente\", reverse= TRUE) %>% \n",
    "  filter_throughput_time(interval = c(1, NA) , units = \"hours\", reverse = TRUE) %>%\n",
    "  process_map(\n",
    "    type_nodes = performance(),\n",
    "    type_edges = performance(),\n",
    "    sec_nodes = frequency (),\n",
    "    sec_edges = frequency()\n",
    "  )\n",
    "\n",
    "ReparacionTelefonos %>%\n",
    "  filter_endpoints(end_activities = c(\"Archivar reparacion\")) %>%\n",
    "  filter_activity(\"Informar a cliente\", reverse= TRUE) %>% \n",
    "  filter_trace_length( interval = c(NA,10)) %>%\n",
    "  process_map(\n",
    "    type_nodes = performance(),\n",
    "    type_edges = performance(),\n",
    "    sec_nodes = frequency (),\n",
    "    sec_edges = frequency()\n",
    "  )\n",
    "\n",
    "ReparacionTelefonos %>%\n",
    "  filter_endpoints(end_activities = c(\"Archivar reparacion\")) %>%\n",
    "  filter_activity(\"Informar a cliente\", reverse= TRUE) %>% \n",
    "  filter_trace_length( interval = c(NA,10)) %>%\n",
    "  trace_explorer (coverage = 1)\n",
    "\n",
    "#Control Flow\n",
    "ReparacionTelefonos %>%\n",
    "  filter_endpoints(end_activities = c(\"Archivar reparacion\")) %>%\n",
    "  filter_activity(\"Informar a cliente\", reverse= TRUE) %>% \n",
    "  filter_activity_presence(activities = c(\"Reparacion (compleja)\")) %>%\n",
    "  process_map(  )\n",
    "\n",
    "\n",
    "? filter_precedence\n",
    "ReparacionTelefonos %>%\n",
    "  filter_endpoints(end_activities = c(\"Archivar reparacion\")) %>%\n",
    "  filter_activity(\"Informar a cliente\", reverse= TRUE) %>% \n",
    "  filter_precedence(\n",
    "    antecedents = c(\"Reparacion (simple)\"), \n",
    "    consequents = c(\"Reparacion (compleja)\"),\n",
    "    precedence_type = c(\"eventually_follows\")\n",
    "  ) %>%\n",
    "  process_map()\n",
    "\n",
    "#Dashboard para analizar especializaci�n de recursos\n",
    "ReparacionTelefonos %>%\n",
    "  resource_dashboard()\n",
    "\n",
    "\n",
    "ReparacionTelefonos %>%\n",
    "  filter_endpoints(end_activities = c(\"Archivar reparacion\")) %>%\n",
    "  filter_activity(\"Informar a cliente\", reverse= TRUE) %>% \n",
    "  filter_precedence(\n",
    "    antecedents = c(\"Reparacion (simple)\"), \n",
    "    consequents = c(\"Reparacion (compleja)\"),\n",
    "    precedence_type = c(\"eventually_follows\")\n",
    "  ) -> MyRep\n",
    "\n",
    "\n",
    "  MyRep <-   filter_endpoints(ReparacionTelefonos, end_activities = c(\"Archivar reparacion\")) \n",
    "  MyRep <-    filter_activity(MyRep, \"Informar a cliente\", reverse= TRUE)\n",
    "\n",
    "  \n",
    "  MyRep %>%\n",
    "    filter_precedence(\n",
    "      antecedents = c(\"Reparacion (simple)\"), \n",
    "      consequents = c(\"Reparacion (compleja)\"),\n",
    "      precedence_type = c(\"eventually_follows\")\n",
    "    ) %>%\n",
    "    process_map(\n",
    "      rankdir = \"TB\"\n",
    "    )\n",
    "  \n",
    "  \n",
    "  # Log mesa ayuda\n",
    "  \n",
    "  setwd(\"C:/Users/Juan Pablo Salazar/Dropbox/Doctorado PUC/Miner�a de Procesos/Ayudant�a bupaR 2021/Tarea\")\n",
    "\n",
    "  read.csv2(\"log-mesa-ayuda-2.csv\") %>%\n",
    "    mutate(Start.Timestamp = dmy_hm(Inicio),\n",
    "           Complete.Timestamp = dmy_hm(Fin)) %>%\n",
    "    activities_to_eventlog(case_id= \"ID.caso\", activity_id = \"Nombre.Actividad\",\n",
    "                           timestamps = c(\"Start.Timestamp\",\"Complete.Timestamp\"),\n",
    "                           resource_id = \"Ejecutor\"\n",
    "    ) -> log_mesa_ayuda\n",
    "  \n",
    "  \n",
    "  #1.An�lisis exploratorio\n",
    "  \n",
    "  summary (log_mesa_ayuda)\n",
    "  table(log_mesa_ayuda$Nombre.Actividad)\n",
    "  table(log_mesa_ayuda$Ejecutor)\n",
    "  \n",
    "  log_mesa_ayuda %>%   activities\n",
    "  \n",
    "  \n",
    "  log_mesa_ayuda %>%   resources\n",
    "  \n",
    "  \n",
    "  log_mesa_ayuda %>%   start_activities(\"activity\")\n",
    "  \n",
    "  log_mesa_ayuda %>%   end_activities(\"activity\")\n",
    "    \n",
    "  \n",
    "  log_mesa_ayuda %>% process_map()\n",
    "\n",
    "  log_mesa_ayuda %>% trace_explorer (coverage = 0.8)\n",
    "  \n",
    "  log_mesa_ayuda %>%\n",
    "    filter_trace_frequency( interval = c(10, 100)) %>%\n",
    "    trace_explorer(coverage =1)\n",
    "    process_map()\n",
    "  \n",
    "    log_mesa_ayuda %>%\n",
    "      filter_trace_frequency( percentage = 0.6) %>% \n",
    "      trace_explorer (coverage =1 )\n",
    "  ?\n",
    "  ?trace_explorer\n",
    "    \n",
    "    log_mesa_ayuda %>%\n",
    "      filter_trace_frequency( interval = c(608, NA)) %>%\n",
    "      trace_explorer(coverage =1)"
   ]
  }
 ],
 "metadata": {
  "kernelspec": {
   "display_name": "R",
   "language": "R",
   "name": "ir"
  },
  "language_info": {
   "codemirror_mode": "r",
   "file_extension": ".r",
   "mimetype": "text/x-r-source",
   "name": "R",
   "pygments_lexer": "r",
   "version": "3.6.1"
  }
 },
 "nbformat": 4,
 "nbformat_minor": 5
}
